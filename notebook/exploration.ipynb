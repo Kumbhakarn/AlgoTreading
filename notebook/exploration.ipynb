{
 "cells": [
  {
   "cell_type": "code",
   "execution_count": 12,
   "metadata": {},
   "outputs": [],
   "source": [
    "# Import necessary libraries\n",
    "import yfinance as yf\n",
    "import pandas as pd\n",
    "import matplotlib.pyplot as plt\n",
    "import seaborn as sns\n",
    "# from src.data_preprocessing import preprocess_data, calculate_rsi, calculate_macd, calculate_williams_r\n",
    "from datetime import datetime, timedelta"
   ]
  },
  {
   "cell_type": "code",
   "execution_count": 13,
   "metadata": {},
   "outputs": [],
   "source": [
    "# Start date as January 1, 2024\n",
    "start_date = \"2024-01-01\""
   ]
  },
  {
   "cell_type": "code",
   "execution_count": 21,
   "metadata": {},
   "outputs": [],
   "source": [
    "# Calculate the end date (60 days after January 1, 2024)\n",
    "start_date_obj = datetime.strptime(start_date, \"%Y-%m-%d\")\n",
    "end_date_obj = start_date_obj + timedelta(days=40)"
   ]
  },
  {
   "cell_type": "code",
   "execution_count": 22,
   "metadata": {},
   "outputs": [],
   "source": [
    "# Convert the end date back to string\n",
    "end_date = end_date_obj.strftime(\"%Y-%m-%d\")"
   ]
  },
  {
   "cell_type": "code",
   "execution_count": 23,
   "metadata": {},
   "outputs": [
    {
     "name": "stderr",
     "output_type": "stream",
     "text": [
      "[*********************100%***********************]  1 of 1 completed\n",
      "\n",
      "1 Failed download:\n",
      "['AAPL']: YFPricesMissingError('$%ticker%: possibly delisted; no price data found  (5m 2024-01-01 -> 2024-02-10) (Yahoo error = \"5m data not available for startTime=1704085200 and endTime=1707541200. The requested range must be within the last 60 days.\")')\n"
     ]
    }
   ],
   "source": [
    "# Load stock data (example: AAPL) for the period from Jan 1, 2024 to March 2, 2024\n",
    "symbol = 'AAPL'\n",
    "data = yf.download(symbol, start=start_date, end=end_date, interval='5m')"
   ]
  },
  {
   "cell_type": "code",
   "execution_count": null,
   "metadata": {},
   "outputs": [],
   "source": []
  },
  {
   "cell_type": "code",
   "execution_count": null,
   "metadata": {},
   "outputs": [],
   "source": [
    "# Preprocess the data\n",
    "data = preprocess_data(data)"
   ]
  },
  {
   "cell_type": "code",
   "execution_count": null,
   "metadata": {},
   "outputs": [],
   "source": [
    "\n",
    "# Plotting Close Price\n",
    "plt.figure(figsize=(14, 7))\n",
    "plt.plot(data['Close'])\n",
    "plt.title(f'{symbol} Close Price')\n",
    "plt.xlabel('Date')\n",
    "plt.ylabel('Price')\n",
    "plt.show()"
   ]
  },
  {
   "cell_type": "code",
   "execution_count": null,
   "metadata": {},
   "outputs": [],
   "source": [
    "# Plotting RSI\n",
    "plt.figure(figsize=(14, 7))\n",
    "plt.plot(data['RSI'], label='RSI', color='blue')\n",
    "plt.title(f'{symbol} RSI')\n",
    "plt.xlabel('Date')\n",
    "plt.ylabel('RSI')\n",
    "plt.show()"
   ]
  },
  {
   "cell_type": "code",
   "execution_count": null,
   "metadata": {},
   "outputs": [],
   "source": [
    "# Plotting MACD and Signal Line\n",
    "plt.figure(figsize=(14, 7))\n",
    "plt.plot(data['MACD'], label='MACD', color='orange')\n",
    "plt.plot(data['Signal'], label='Signal Line', color='green')\n",
    "plt.title(f'{symbol} MACD vs Signal Line')\n",
    "plt.xlabel('Date')\n",
    "plt.ylabel('MACD')\n",
    "plt.legend()\n",
    "plt.show()\n"
   ]
  },
  {
   "cell_type": "code",
   "execution_count": null,
   "metadata": {},
   "outputs": [],
   "source": [
    "# Plotting Williams %R\n",
    "plt.figure(figsize=(14, 7))\n",
    "plt.plot(data['Williams %R'], label=\"Williams %R\", color='purple')\n",
    "plt.title(f'{symbol} Williams %R')\n",
    "plt.xlabel('Date')\n",
    "plt.ylabel('Williams %R')\n",
    "plt.show()"
   ]
  },
  {
   "cell_type": "code",
   "execution_count": null,
   "metadata": {},
   "outputs": [],
   "source": [
    "# Correlation Matrix of Technical Indicators\n",
    "indicators = ['RSI', 'MACD', 'Signal', 'Williams %R']\n",
    "correlation_matrix = data[indicators].corr()"
   ]
  },
  {
   "cell_type": "code",
   "execution_count": null,
   "metadata": {},
   "outputs": [],
   "source": [
    "# Heatmap to visualize correlation\n",
    "plt.figure(figsize=(8, 6))\n",
    "sns.heatmap(correlation_matrix, annot=True, cmap='coolwarm', fmt=\".2f\")\n",
    "plt.title(f'{symbol} Technical Indicators Correlation Matrix')\n",
    "plt.show()"
   ]
  },
  {
   "cell_type": "code",
   "execution_count": null,
   "metadata": {},
   "outputs": [],
   "source": [
    "# Data Summary and Statistics\n",
    "data.describe()"
   ]
  },
  {
   "cell_type": "code",
   "execution_count": null,
   "metadata": {},
   "outputs": [],
   "source": []
  },
  {
   "cell_type": "code",
   "execution_count": null,
   "metadata": {},
   "outputs": [],
   "source": []
  }
 ],
 "metadata": {
  "kernelspec": {
   "display_name": "env",
   "language": "python",
   "name": "python3"
  },
  "language_info": {
   "codemirror_mode": {
    "name": "ipython",
    "version": 3
   },
   "file_extension": ".py",
   "mimetype": "text/x-python",
   "name": "python",
   "nbconvert_exporter": "python",
   "pygments_lexer": "ipython3",
   "version": "3.9.21"
  }
 },
 "nbformat": 4,
 "nbformat_minor": 2
}
